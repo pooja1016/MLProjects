{
 "cells": [
  {
   "cell_type": "markdown",
   "metadata": {
    "_uuid": "eebbcb9171625b60cddf061bec043a3344bb5a90",
    "colab_type": "text",
    "id": "Md7pXIShw5vY"
   },
   "source": [
    "# Gesture Recognition\n",
    "In this group project, you are going to build a 3D Conv model that will be able to predict the 5 gestures correctly. Please import the following libraries to get started."
   ]
  },
  {
   "cell_type": "code",
   "execution_count": 1,
   "metadata": {
    "colab": {
     "base_uri": "https://localhost:8080/",
     "height": 51
    },
    "colab_type": "code",
    "id": "6VfBo0zWyBC5",
    "outputId": "535c68fc-943e-4487-d65a-f5f9af0a2a93"
   },
   "outputs": [
    {
     "name": "stdout",
     "output_type": "stream",
     "text": [
      "Downloading 1ehyrYBQ5rbQQe6yL4XbLWe3FMvuVUGiL into ./data... Done.\n",
      "Unzipping...Done.\n"
     ]
    }
   ],
   "source": [
    "#from google_drive_downloader import GoogleDriveDownloader as gdd\n",
    "#gdd.download_file_from_google_drive(file_id='1ehyrYBQ5rbQQe6yL4XbLWe3FMvuVUGiL', dest_path='./data', unzip=True)"
   ]
  },
  {
   "cell_type": "code",
   "execution_count": 0,
   "metadata": {
    "_uuid": "d7579e8e874894132bc3e59f9f7af8d129ccd613",
    "colab": {},
    "colab_type": "code",
    "id": "IpZagafZw5ve"
   },
   "outputs": [],
   "source": [
    "import numpy as np\n",
    "import os\n",
    "from scipy.misc import imread, imresize\n",
    "import datetime\n",
    "import warnings\n",
    "warnings.filterwarnings('ignore')"
   ]
  },
  {
   "cell_type": "markdown",
   "metadata": {
    "_uuid": "f0e62ef5e03a900d26c27194a20dc299e738e783",
    "colab_type": "text",
    "id": "JNHD4RRCw5vw"
   },
   "source": [
    "We set the random seed so that the results don't vary drastically."
   ]
  },
  {
   "cell_type": "code",
   "execution_count": 0,
   "metadata": {
    "_uuid": "f9680ae5f285314e7bc584be7c2be743741852a6",
    "colab": {},
    "colab_type": "code",
    "id": "PCtW_YNVw5v4"
   },
   "outputs": [],
   "source": [
    "np.random.seed(30)\n",
    "import random as rn\n",
    "rn.seed(30)\n",
    "from keras import backend as K\n",
    "import tensorflow as tf\n",
    "tf.set_random_seed(30)"
   ]
  },
  {
   "cell_type": "code",
   "execution_count": 22,
   "metadata": {
    "_uuid": "f312c38fe25c2134efbfd46baf9ad2405ff204a2",
    "colab": {
     "base_uri": "https://localhost:8080/",
     "height": 34
    },
    "colab_type": "code",
    "id": "ytORbbb7w5wL",
    "outputId": "66f636cc-bead-4c76-dae7-43ce26500da7"
   },
   "outputs": [
    {
     "name": "stdout",
     "output_type": "stream",
     "text": [
      "['.config', 'Project_data', 'data', 'model_init_2018-12-3005_40_47.426425', 'sample_data']\n"
     ]
    }
   ],
   "source": [
    "#print (os.listdir('./'))\n",
    "# print (os.listdir('../input/final-data/neural_nets/Project_data'))\n",
    "# print (os.listdir('../input/keras-pretrained-models'))"
   ]
  },
  {
   "cell_type": "markdown",
   "metadata": {
    "_uuid": "1553d1c755655c3ea39260cd57508854797b3e7a",
    "colab_type": "text",
    "id": "reznauRpw5we"
   },
   "source": [
    "In this block, you read the folder names for training and validation. You also set the `batch_size` here. Note that you set the batch size in such a way that you are able to use the GPU in full capacity. You keep increasing the batch size until the machine throws an error."
   ]
  },
  {
   "cell_type": "code",
   "execution_count": 0,
   "metadata": {
    "_uuid": "bab0a6e27e9f87f9cb85441892d59f40e85d5d21",
    "colab": {},
    "colab_type": "code",
    "id": "U1LIFewHw5wk"
   },
   "outputs": [],
   "source": [
    "train_doc = np.random.permutation(open('/notebooks/storage/Final_data/Collated_training/train.csv').readlines())\n",
    "val_doc = np.random.permutation(open('/notebooks/storage/Final_data/Collated_training/val.csv').readlines())\n",
    "batch_size = 16"
   ]
  },
  {
   "cell_type": "code",
   "execution_count": 24,
   "metadata": {
    "_uuid": "20d690b9c0c5997ced979346a3cd93ac31586665",
    "colab": {
     "base_uri": "https://localhost:8080/",
     "height": 34
    },
    "colab_type": "code",
    "id": "u0QB-_zpw5wz",
    "outputId": "0a5703b6-d15d-441a-9a1a-395993b98d99"
   },
   "outputs": [
    {
     "data": {
      "text/plain": [
       "'WIN_20180926_16_54_08_Pro_Right_Swipe_new;Right_Swipe_new;1\\n'"
      ]
     },
     "execution_count": 24,
     "metadata": {
      "tags": []
     },
     "output_type": "execute_result"
    }
   ],
   "source": [
    "train_doc[0]"
   ]
  },
  {
   "cell_type": "code",
   "execution_count": 25,
   "metadata": {
    "_uuid": "4ec773bfb577d75316d5d67a5326afb58c6d197e",
    "colab": {
     "base_uri": "https://localhost:8080/",
     "height": 51
    },
    "colab_type": "code",
    "id": "FsPUfmqGw5xK",
    "outputId": "db793c77-d54b-42ea-93a3-19549a1a9548"
   },
   "outputs": [
    {
     "name": "stdout",
     "output_type": "stream",
     "text": [
      "Counter({30: 663})\n",
      "Counter({(120, 160, 3): 479, (360, 360, 3): 184})\n"
     ]
    }
   ],
   "source": [
    "from collections import Counter\n",
    "length = []\n",
    "sizes = []\n",
    "for folder in train_doc:\n",
    "    imgs = os.listdir('/notebooks/storage/Final_data/Collated_training/train/'+ folder.split(';')[0])\n",
    "    length.append(len(imgs))\n",
    "    image =imread('/notebooks/storage/Final_data/Collated_training/train/'+ folder.split(';')[0]+'/'+imgs[0])\n",
    "    sizes.append(image.shape)\n",
    "len_cntr = Counter(length)\n",
    "siz_cntr = Counter(sizes)\n",
    "print (len_cntr)\n",
    "print (siz_cntr)"
   ]
  },
  {
   "cell_type": "code",
   "execution_count": 0,
   "metadata": {
    "_uuid": "b449db73c1226bfdbbdd1566b67145211f22bb83",
    "colab": {},
    "colab_type": "code",
    "id": "5IoXQrggw5xi"
   },
   "outputs": [],
   "source": [
    "img_size = (120,160,3)"
   ]
  },
  {
   "cell_type": "code",
   "execution_count": 27,
   "metadata": {
    "_uuid": "6bec1e6e52cbec4ff75042b38b468c61d14b0b25",
    "colab": {
     "base_uri": "https://localhost:8080/",
     "height": 34
    },
    "colab_type": "code",
    "id": "MJCCz9KXw5x0",
    "outputId": "0cebda24-ade9-4e2d-e6d9-cc29a779f4aa"
   },
   "outputs": [
    {
     "data": {
      "text/plain": [
       "Counter({(120, 160, 3): 663})"
      ]
     },
     "execution_count": 27,
     "metadata": {
      "tags": []
     },
     "output_type": "execute_result"
    }
   ],
   "source": [
    "sizes = []\n",
    "for folder in train_doc:\n",
    "    imgs = os.listdir('/notebooks/storage/Final_data/Collated_training/train/'+ folder.split(';')[0])\n",
    "    image =imread('/notebooks/storage/Final_data/Collated_training/train/'+ folder.split(';')[0]+'/'+imgs[0])\n",
    "    image = imresize(image,(120,160,3))\n",
    "    sizes.append(image.shape)\n",
    "siz_cntr = Counter(sizes)\n",
    "siz_cntr"
   ]
  },
  {
   "cell_type": "markdown",
   "metadata": {
    "_uuid": "8de5d387365bc202d259e905a4283f454b2ad449",
    "colab_type": "text",
    "id": "DAnuOk1Fw5yG"
   },
   "source": [
    "## Generator\n",
    "This is one of the most important part of the code. The overall structure of the generator has been given. In the generator, you are going to preprocess the images as you have images of 2 different dimensions as well as create a batch of video frames. You have to experiment with `img_idx`, `y`,`z` and normalization such that you get high accuracy."
   ]
  },
  {
   "cell_type": "code",
   "execution_count": 0,
   "metadata": {
    "_uuid": "14ec7cc6c84c92efce537484c5854ad10690fb58",
    "colab": {},
    "colab_type": "code",
    "id": "M13os8Njw5yL"
   },
   "outputs": [],
   "source": [
    "def generator(source_path, folder_list, batch_size):\n",
    "    print( 'Source path = ', source_path, '; batch size =', batch_size)\n",
    "    img_idx = [1,5,8,10,12,14,16,18,20,22,25,29]#create a list of image numbers you want to use for a particular video\n",
    "    x = len(img_idx)\n",
    "    y = img_size[0]\n",
    "    z = img_size[1]\n",
    "    while True:\n",
    "        t = np.random.permutation(folder_list)\n",
    "        num_batches = len(t)//batch_size\n",
    "        for batch in range(num_batches): # we iterate over the number of batches\n",
    "            batch_data = np.zeros((batch_size,x,y,z,3)) # x is the number of images you use for each video, (y,z) is the final size of the input images and 3 is the number of channels RGB\n",
    "            batch_labels = np.zeros((batch_size,5)) # batch_labels is the one hot representation of the output\n",
    "            for folder in range(batch_size): # iterate over the batch_size\n",
    "                imgs = os.listdir(source_path+'/'+ t[folder + (batch*batch_size)].split(';')[0]) # read all the images in the folder\n",
    "                for idx,item in enumerate(img_idx): #  Iterate iver the frames/images of a folder to read them in\n",
    "                    image = imread(source_path+'/'+ t[folder + (batch*batch_size)].strip().split(';')[0]+'/'+imgs[item]).astype(np.float32)\n",
    "                    \n",
    "                    #crop the images and resize them. Note that the images are of 2 different shape \n",
    "                    #and the conv3D will throw error if the inputs in a batch have different shapes\n",
    "                    image = imresize(image,(y,z,3))\n",
    "                    \n",
    "                    batch_data[folder,idx,:,:,0] =(image[:,:,0] - np.mean(image[:,:,0]))/np.std(image[:,:,0]) #normalise and feed in the image\n",
    "                    batch_data[folder,idx,:,:,1] = (image[:,:,1] - np.mean(image[:,:,1]))/np.std(image[:,:,1])#normalise and feed in the image\n",
    "                    batch_data[folder,idx,:,:,2] = (image[:,:,2] - np.mean(image[:,:,2]))/np.std(image[:,:,2])#normalise and feed in the image\n",
    "                    \n",
    "                batch_labels[folder, int(t[folder + (batch*batch_size)].strip().split(';')[2])] = 1\n",
    "            yield batch_data, batch_labels #you yield the batch_data and the batch_labels, remember what does yield do\n",
    "\n",
    "        \n",
    "        # write the code for the remaining data points which are left after full batches\n",
    "        batch_data = np.zeros((batch_size,x,y,z,3)) # x is the number of images you use for each video, (y,z) is the final size of the input images and 3 is the number of channels RGB\n",
    "        batch_labels = np.zeros((batch_size,5)) # batch_labels is the one hot representation of the output\n",
    "        batch = batch+1\n",
    "        rem_data = batch_size*batch\n",
    "        for folder in range(len(t)-rem_data): # iterate over the batch_size \n",
    "            imgs = os.listdir(source_path+'/'+ t[folder + (batch*batch_size)].split(';')[0]) # read all the images in the folder\n",
    "            for idx,item in enumerate(img_idx): #  Iterate iver the frames/images of a folder to read them in\n",
    "                image = imread(source_path+'/'+ t[folder + (batch*batch_size)].strip().split(';')[0]+'/'+imgs[item]).astype(np.float32)\n",
    "\n",
    "                #crop the images and resize them. Note that the images are of 2 different shape \n",
    "                #and the conv3D will throw error if the inputs in a batch have different shapes\n",
    "                image = imresize(image,(y,z,3))\n",
    "\n",
    "                batch_data[folder,idx,:,:,0] =(image[:,:,0] - np.mean(image[:,:,0]))/np.std(image[:,:,0]) #normalise and feed in the image\n",
    "                batch_data[folder,idx,:,:,1] = (image[:,:,1] - np.mean(image[:,:,1]))/np.std(image[:,:,1])#normalise and feed in the image\n",
    "                batch_data[folder,idx,:,:,2] = (image[:,:,2] - np.mean(image[:,:,2]))/np.std(image[:,:,2])#normalise and feed in the image\n",
    "\n",
    "            batch_labels[folder, int(t[folder + (batch*batch_size)].strip().split(';')[2])] = 1\n",
    "        print (batch_data.shape,batch_labels.shape)\n",
    "        yield batch_data, batch_labels #you yield the batch_data and the batch_labels, remember what does yield do\n"
   ]
  },
  {
   "cell_type": "markdown",
   "metadata": {
    "_uuid": "749935bb0ca64a2c9c2bc88ba21b4c9e7a988c2d",
    "colab_type": "text",
    "id": "ZlmClLYww5yd"
   },
   "source": [
    "Note here that a video is represented above in the generator as (number of images, height, width, number of channels). Take this into consideration while creating the model architecture."
   ]
  },
  {
   "cell_type": "code",
   "execution_count": 29,
   "metadata": {
    "_uuid": "fa84f572b26c26e311332d247c1c6a36b6424688",
    "colab": {
     "base_uri": "https://localhost:8080/",
     "height": 68
    },
    "colab_type": "code",
    "id": "Q3Z4ZQoew5yn",
    "outputId": "94709d4e-1f26-46b3-d1b4-ef28f2d97443"
   },
   "outputs": [
    {
     "name": "stdout",
     "output_type": "stream",
     "text": [
      "# training sequences = 663\n",
      "# validation sequences = 100\n",
      "# epochs = 5\n"
     ]
    }
   ],
   "source": [
    "curr_dt_time = datetime.datetime.now()\n",
    "train_path = '/notebooks/storage/Final_data/Collated_training/train'#'/notebooks/storage/Final_data/Collated_training/train'\n",
    "val_path = '/notebooks/storage/Final_data/Collated_training/val' #'/notebooks/storage/Final_data/Collated_training/val'\n",
    "num_train_sequences = len(train_doc)\n",
    "print('# training sequences =', num_train_sequences)\n",
    "num_val_sequences = len(val_doc)\n",
    "print('# validation sequences =', num_val_sequences)\n",
    "num_epochs = 5 # choose the number of epochs\n",
    "print ('# epochs =', num_epochs)"
   ]
  },
  {
   "cell_type": "markdown",
   "metadata": {
    "_uuid": "8a4762a666d33cbd737bd8fcf004d881c2dc30a4",
    "colab_type": "text",
    "id": "gf0xzgEPw5y9"
   },
   "source": [
    "## Model\n",
    "Here you make the model using different functionalities that Keras provides. Remember to use `Conv3D` and `MaxPooling3D` and not `Conv2D` and `Maxpooling2D` for a 3D convolution model. You would want to use `TimeDistributed` while building a Conv2D + RNN model. Also remember that the last layer is the softmax. Design the network in such a way that the model is able to give good accuracy on the least number of parameters so that it can fit in the memory of the webcam."
   ]
  },
  {
   "cell_type": "code",
   "execution_count": 30,
   "metadata": {
    "_uuid": "57baecaaa952b4c8791bf6b29b8b8ae9025f2853",
    "colab": {
     "base_uri": "https://localhost:8080/",
     "height": 71
    },
    "colab_type": "code",
    "id": "T4Kxk07uw5zB",
    "outputId": "30002237-2f95-4a54-be22-220482e1c322"
   },
   "outputs": [
    {
     "name": "stdout",
     "output_type": "stream",
     "text": [
      "Downloading data from https://github.com/JonathanCMitchell/mobilenet_v2_keras/releases/download/v1.1/mobilenet_v2_weights_tf_dim_ordering_tf_kernels_1.0_224_no_top.h5\n",
      "9412608/9406464 [==============================] - 2s 0us/step\n"
     ]
    }
   ],
   "source": [
    "from keras.models import Sequential, Model\n",
    "from keras.layers import Dense, GRU, Flatten, TimeDistributed, Flatten, BatchNormalization, Activation, Dropout\n",
    "from keras.layers.convolutional import Conv3D, MaxPooling3D\n",
    "from keras.callbacks import ModelCheckpoint, ReduceLROnPlateau\n",
    "from keras import optimizers\n",
    "from keras.regularizers import * \n",
    "from keras.applications.vgg16 import VGG16\n",
    "from keras.applications.mobilenet_v2 import MobileNetV2\n",
    "model1 = TimeDistributed(MobileNetV2(weights = 'imagenet',include_top = False,pooling='avg'))"
   ]
  },
  {
   "cell_type": "code",
   "execution_count": 31,
   "metadata": {
    "_uuid": "f403f9c324708ac8a7626e32598c7dee32e48267",
    "colab": {
     "base_uri": "https://localhost:8080/",
     "height": 340
    },
    "colab_type": "code",
    "id": "lPxjWDzxw5zK",
    "outputId": "1028251e-17ab-431c-db3c-404a0e63b77c"
   },
   "outputs": [
    {
     "name": "stdout",
     "output_type": "stream",
     "text": [
      "_________________________________________________________________\n",
      "Layer (type)                 Output Shape              Param #   \n",
      "=================================================================\n",
      "input_4 (InputLayer)         (None, 12, 120, 160, 3)   0         \n",
      "_________________________________________________________________\n",
      "time_distributed_2 (TimeDist (None, 12, 1280)          2257984   \n",
      "_________________________________________________________________\n",
      "dropout_3 (Dropout)          (None, 12, 1280)          0         \n",
      "_________________________________________________________________\n",
      "gru_2 (GRU)                  (None, 256)               1180416   \n",
      "_________________________________________________________________\n",
      "dropout_4 (Dropout)          (None, 256)               0         \n",
      "_________________________________________________________________\n",
      "dense_2 (Dense)              (None, 5)                 1285      \n",
      "=================================================================\n",
      "Total params: 3,439,685\n",
      "Trainable params: 3,405,573\n",
      "Non-trainable params: 34,112\n",
      "_________________________________________________________________\n"
     ]
    }
   ],
   "source": [
    "from keras import layers\n",
    "inp = layers.Input((12,120,160,3))\n",
    "x = model1(inp)\n",
    "x = layers.Dropout(0.5)(x)\n",
    "x = layers.GRU(256,activation='relu',kernel_regularizer = l2(0.01),recurrent_regularizer=l2(0.01))(x)\n",
    "x = layers.Dropout(0.5)(x)\n",
    "x = layers.Dense(5,activation='softmax',kernel_regularizer = l2(0.01))(x)\n",
    "model = Model(input=inp,output=x)\n",
    "model.summary()"
   ]
  },
  {
   "cell_type": "markdown",
   "metadata": {
    "_uuid": "79f06bbabecc250740f10b8c1e0cf0b07672afe6",
    "colab_type": "text",
    "id": "pUsJpMw5w5za"
   },
   "source": [
    "Now that you have written the model, the next step is to `compile` the model. When you print the `summary` of the model, you'll see the total number of parameters you have to train."
   ]
  },
  {
   "cell_type": "code",
   "execution_count": 32,
   "metadata": {
    "_uuid": "de8d1e7a89f3a6462c120fda30665b1543497d3e",
    "colab": {
     "base_uri": "https://localhost:8080/",
     "height": 357
    },
    "colab_type": "code",
    "id": "pscU9oosw5ze",
    "outputId": "259e76b7-6f2f-4b96-e92e-58c6a3c7533e"
   },
   "outputs": [
    {
     "name": "stdout",
     "output_type": "stream",
     "text": [
      "_________________________________________________________________\n",
      "Layer (type)                 Output Shape              Param #   \n",
      "=================================================================\n",
      "input_4 (InputLayer)         (None, 12, 120, 160, 3)   0         \n",
      "_________________________________________________________________\n",
      "time_distributed_2 (TimeDist (None, 12, 1280)          2257984   \n",
      "_________________________________________________________________\n",
      "dropout_3 (Dropout)          (None, 12, 1280)          0         \n",
      "_________________________________________________________________\n",
      "gru_2 (GRU)                  (None, 256)               1180416   \n",
      "_________________________________________________________________\n",
      "dropout_4 (Dropout)          (None, 256)               0         \n",
      "_________________________________________________________________\n",
      "dense_2 (Dense)              (None, 5)                 1285      \n",
      "=================================================================\n",
      "Total params: 3,439,685\n",
      "Trainable params: 3,405,573\n",
      "Non-trainable params: 34,112\n",
      "_________________________________________________________________\n",
      "None\n"
     ]
    }
   ],
   "source": [
    "optimiser = optimizers.SGD(lr=0.01)\n",
    "model.compile(optimizer=optimiser, loss='categorical_crossentropy', metrics=['categorical_accuracy'])\n",
    "print (model.summary())"
   ]
  },
  {
   "cell_type": "markdown",
   "metadata": {
    "_uuid": "5a174480eb7198e45dfda72e10b8d108c22d96a0",
    "colab_type": "text",
    "id": "shndkCtEw5zt"
   },
   "source": [
    "Let us create the `train_generator` and the `val_generator` which will be used in `.fit_generator`."
   ]
  },
  {
   "cell_type": "code",
   "execution_count": 0,
   "metadata": {
    "_uuid": "e053f003c4996f5b43421fbc7f2a524b9b99fec0",
    "colab": {},
    "colab_type": "code",
    "id": "dx-1dP6qw5zx"
   },
   "outputs": [],
   "source": [
    "train_generator = generator(train_path, train_doc, batch_size)\n",
    "val_generator = generator(val_path, val_doc, batch_size)"
   ]
  },
  {
   "cell_type": "code",
   "execution_count": 0,
   "metadata": {
    "_uuid": "b0fc9b4512e793fd48e9e59d884c947314212d48",
    "colab": {},
    "colab_type": "code",
    "id": "yghXfgLiw5z-"
   },
   "outputs": [],
   "source": [
    "model_name = 'model_init' + '_' + str(curr_dt_time).replace(' ','').replace(':','_') + '/'\n",
    "    \n",
    "if not os.path.exists(model_name):\n",
    "    os.mkdir(model_name)\n",
    "        \n",
    "filepath = model_name + 'model-{epoch:05d}-{loss:.5f}-{categorical_accuracy:.5f}-{val_loss:.5f}-{val_categorical_accuracy:.5f}.h5'\n",
    "\n",
    "checkpoint = ModelCheckpoint(filepath, monitor='val_loss', verbose=1, save_best_only=False, save_weights_only=False, mode='auto', period=1)\n",
    "\n",
    "LR = ReduceLROnPlateau(monitor='val_loss', factor=0.4,patience=2, min_lr=0.001)\n",
    "callbacks_list = [checkpoint, LR]"
   ]
  },
  {
   "cell_type": "markdown",
   "metadata": {
    "_uuid": "f29905a28a700f49f4242054e043bfe4cc93a0b8",
    "colab_type": "text",
    "id": "KkBEoh0Sw50K"
   },
   "source": [
    "The `steps_per_epoch` and `validation_steps` are used by `fit_generator` to decide the number of next() calls it need to make."
   ]
  },
  {
   "cell_type": "code",
   "execution_count": 0,
   "metadata": {
    "_uuid": "8de58c391749843bcb797ac9ae6c491ec23945cf",
    "colab": {},
    "colab_type": "code",
    "id": "7fpWLrBww50M"
   },
   "outputs": [],
   "source": [
    "if (num_train_sequences%batch_size) == 0:\n",
    "    steps_per_epoch = int(num_train_sequences/batch_size)\n",
    "else:\n",
    "    steps_per_epoch = (num_train_sequences//batch_size) + 1\n",
    "\n",
    "if (num_val_sequences%batch_size) == 0:\n",
    "    validation_steps = int(num_val_sequences/batch_size)\n",
    "else:\n",
    "    validation_steps = (num_val_sequences//batch_size) + 1"
   ]
  },
  {
   "cell_type": "markdown",
   "metadata": {
    "_uuid": "dc86cea5028d7de7e49fb2086f7800b9d09ff6d3",
    "colab_type": "text",
    "id": "00ikpJ4iw50U"
   },
   "source": [
    "Let us now fit the model. This will start training the model and with the help of the checkpoints, you'll be able to save the model at the end of each epoch."
   ]
  },
  {
   "cell_type": "code",
   "execution_count": 36,
   "metadata": {
    "_uuid": "9423b365eabd05dae32bc73c1d043b303ccc357e",
    "colab": {
     "base_uri": "https://localhost:8080/",
     "height": 578
    },
    "colab_type": "code",
    "id": "WRa75lD5w50X",
    "outputId": "f1863377-1ebf-4053-9459-aa64c95ea054"
   },
   "outputs": [
    {
     "name": "stdout",
     "output_type": "stream",
     "text": [
      "Epoch 1/5\n",
      "Source path =  Source path = ./Project_data/train/  ./Project_data/val/ ; batch size = 16\n",
      "; batch size = 16\n",
      "(16, 12, 120, 160, 3) (16, 5)\n",
      "40/42 [===========================>..] - ETA: 3s - loss: 13.8013 - categorical_accuracy: 0.3141(16, 12, 120, 160, 3) (16, 5)\n",
      "42/42 [==============================] - 66s 2s/step - loss: 13.7685 - categorical_accuracy: 0.3170 - val_loss: 13.2095 - val_categorical_accuracy: 0.3839\n",
      "\n",
      "Epoch 00001: saving model to model_init_2018-12-3006_14_06.540593/model-00001-13.76847-0.31696-13.20948-0.38393.h5\n",
      "(16, 12, 120, 160, 3) (16, 5)\n",
      "Epoch 2/5\n",
      "40/42 [===========================>..] - ETA: 1s - loss: 12.8697 - categorical_accuracy: 0.6344(16, 12, 120, 160, 3) (16, 5)\n",
      "42/42 [==============================] - 43s 1s/step - loss: 12.8486 - categorical_accuracy: 0.6354 - val_loss: 12.5173 - val_categorical_accuracy: 0.7143\n",
      "\n",
      "Epoch 00002: saving model to model_init_2018-12-3006_14_06.540593/model-00002-12.84862-0.63542-12.51731-0.71429.h5\n",
      "Epoch 3/5\n",
      " 3/42 [=>............................] - ETA: 34s - loss: 12.5664 - categorical_accuracy: 0.8333(16, 12, 120, 160, 3) (16, 5)\n",
      "40/42 [===========================>..] - ETA: 2s - loss: 12.3000 - categorical_accuracy: 0.7984(16, 12, 120, 160, 3) (16, 5)\n",
      "42/42 [==============================] - 50s 1s/step - loss: 12.2844 - categorical_accuracy: 0.7961 - val_loss: 12.2270 - val_categorical_accuracy: 0.6429\n",
      "\n",
      "Epoch 00003: saving model to model_init_2018-12-3006_14_06.540593/model-00003-12.28438-0.79613-12.22704-0.64286.h5\n",
      "Epoch 4/5\n",
      " 3/42 [=>............................] - ETA: 35s - loss: 11.8575 - categorical_accuracy: 0.9375(16, 12, 120, 160, 3) (16, 5)\n",
      "40/42 [===========================>..] - ETA: 2s - loss: 11.9062 - categorical_accuracy: 0.8766(16, 12, 120, 160, 3) (16, 5)\n",
      "42/42 [==============================] - 50s 1s/step - loss: 11.9031 - categorical_accuracy: 0.8601 - val_loss: 11.8197 - val_categorical_accuracy: 0.7232\n",
      "\n",
      "Epoch 00004: saving model to model_init_2018-12-3006_14_06.540593/model-00004-11.90309-0.86012-11.81974-0.72321.h5\n",
      "Epoch 5/5\n",
      " 3/42 [=>............................] - ETA: 35s - loss: 11.6839 - categorical_accuracy: 0.9583(16, 12, 120, 160, 3) (16, 5)\n",
      "40/42 [===========================>..] - ETA: 2s - loss: 11.6197 - categorical_accuracy: 0.9094(16, 12, 120, 160, 3) (16, 5)\n",
      "42/42 [==============================] - 51s 1s/step - loss: 11.6208 - categorical_accuracy: 0.8958 - val_loss: 11.6156 - val_categorical_accuracy: 0.8482\n",
      "\n",
      "Epoch 00005: saving model to model_init_2018-12-3006_14_06.540593/model-00005-11.62079-0.89583-11.61560-0.84821.h5\n"
     ]
    },
    {
     "data": {
      "text/plain": [
       "<keras.callbacks.History at 0x7fbe44632240>"
      ]
     },
     "execution_count": 36,
     "metadata": {
      "tags": []
     },
     "output_type": "execute_result"
    }
   ],
   "source": [
    "model.fit_generator(train_generator, steps_per_epoch=steps_per_epoch, epochs=num_epochs, verbose=1, \n",
    "                    callbacks=callbacks_list, validation_data=val_generator, \n",
    "                    validation_steps=validation_steps, class_weight=None, workers=1, initial_epoch=0)"
   ]
  },
  {
   "cell_type": "code",
   "execution_count": 0,
   "metadata": {
    "colab": {},
    "colab_type": "code",
    "id": "U-3Fe-Ce5JTE"
   },
   "outputs": [],
   "source": []
  }
 ],
 "metadata": {
  "accelerator": "GPU",
  "colab": {
   "name": "Gest_Rec_88.ipynb",
   "provenance": [],
   "version": "0.3.2"
  },
  "kernelspec": {
   "display_name": "Python 3",
   "language": "python",
   "name": "python3"
  },
  "language_info": {
   "codemirror_mode": {
    "name": "ipython",
    "version": 3
   },
   "file_extension": ".py",
   "mimetype": "text/x-python",
   "name": "python",
   "nbconvert_exporter": "python",
   "pygments_lexer": "ipython3",
   "version": "3.7.0"
  }
 },
 "nbformat": 4,
 "nbformat_minor": 1
}
